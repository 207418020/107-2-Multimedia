{
  "nbformat": 4,
  "nbformat_minor": 0,
  "metadata": {
    "colab": {
      "name": "Untitled2.ipynb",
      "version": "0.3.2",
      "provenance": []
    },
    "kernelspec": {
      "name": "python3",
      "display_name": "Python 3"
    }
  },
  "cells": [
    {
      "cell_type": "code",
      "metadata": {
        "id": "WrcBjtJRo5z5",
        "colab_type": "code",
        "colab": {}
      },
      "source": [
        "import cv2"
      ],
      "execution_count": 0,
      "outputs": []
    },
    {
      "cell_type": "code",
      "metadata": {
        "id": "TnlYtOCcpkxJ",
        "colab_type": "code",
        "colab": {
          "base_uri": "https://localhost:8080/",
          "height": 34
        },
        "outputId": "0b14cc3a-47e3-42df-a989-eb9ec5febfe7"
      },
      "source": [
        "from google.colab import drive\n",
        "drive.mount('/content/drive')"
      ],
      "execution_count": 14,
      "outputs": [
        {
          "output_type": "stream",
          "text": [
            "Drive already mounted at /content/drive; to attempt to forcibly remount, call drive.mount(\"/content/drive\", force_remount=True).\n"
          ],
          "name": "stdout"
        }
      ]
    },
    {
      "cell_type": "code",
      "metadata": {
        "id": "caUQlP5Kpnqe",
        "colab_type": "code",
        "colab": {
          "base_uri": "https://localhost:8080/",
          "height": 34
        },
        "outputId": "0e504719-2323-4228-fe6a-748335f907f2"
      },
      "source": [
        "!ls /content/drive/My\\ Drive/class"
      ],
      "execution_count": 15,
      "outputs": [
        {
          "output_type": "stream",
          "text": [
            "107-2M.jpg  207418020.jpg  632423-XXL.jpg\n"
          ],
          "name": "stdout"
        }
      ]
    },
    {
      "cell_type": "code",
      "metadata": {
        "id": "YTcuVhVXptpA",
        "colab_type": "code",
        "colab": {
          "base_uri": "https://localhost:8080/",
          "height": 162
        },
        "outputId": "a1033395-959c-4eb3-c52d-c152e8fc3a34"
      },
      "source": [
        "img.shape"
      ],
      "execution_count": 17,
      "outputs": [
        {
          "output_type": "error",
          "ename": "AttributeError",
          "evalue": "ignored",
          "traceback": [
            "\u001b[0;31m---------------------------------------------------------------------------\u001b[0m",
            "\u001b[0;31mAttributeError\u001b[0m                            Traceback (most recent call last)",
            "\u001b[0;32m<ipython-input-17-32ad6cb7aa56>\u001b[0m in \u001b[0;36m<module>\u001b[0;34m()\u001b[0m\n\u001b[0;32m----> 1\u001b[0;31m \u001b[0mimg\u001b[0m\u001b[0;34m.\u001b[0m\u001b[0mshape\u001b[0m\u001b[0;34m\u001b[0m\u001b[0;34m\u001b[0m\u001b[0m\n\u001b[0m",
            "\u001b[0;31mAttributeError\u001b[0m: 'NoneType' object has no attribute 'shape'"
          ]
        }
      ]
    },
    {
      "cell_type": "code",
      "metadata": {
        "id": "nhYPpkhbqMgz",
        "colab_type": "code",
        "colab": {}
      },
      "source": [
        "img.size #512*512*3bytes"
      ],
      "execution_count": 0,
      "outputs": []
    },
    {
      "cell_type": "code",
      "metadata": {
        "id": "pB5awjmgpqax",
        "colab_type": "code",
        "colab": {}
      },
      "source": [
        "img = cv2.imread('/content/drive/My Drive/107-2Multimedia/lena512color.tiff', 1)\n",
        "img = cv2.cvtColor(img,cv2.COLOR_BGR2RGB)"
      ],
      "execution_count": 0,
      "outputs": []
    },
    {
      "cell_type": "code",
      "metadata": {
        "id": "qCRmUvDsqPXi",
        "colab_type": "code",
        "colab": {}
      },
      "source": [
        "img.dtype"
      ],
      "execution_count": 0,
      "outputs": []
    },
    {
      "cell_type": "code",
      "metadata": {
        "id": "HRCbFir_qQyS",
        "colab_type": "code",
        "colab": {}
      },
      "source": [
        "img2 = cv2.imread('/content/drive/My Drive/107-2Multimedia/baboon.tiff', 1)\n",
        "img2 = cv2.cvtColor(img2,cv2.COLOR_BGR2RGB)"
      ],
      "execution_count": 0,
      "outputs": []
    },
    {
      "cell_type": "code",
      "metadata": {
        "id": "9vJgF7kaqVry",
        "colab_type": "code",
        "colab": {}
      },
      "source": [
        "from matplotlib import pyplot as plt"
      ],
      "execution_count": 0,
      "outputs": []
    },
    {
      "cell_type": "code",
      "metadata": {
        "id": "F6tlukwNqXsE",
        "colab_type": "code",
        "colab": {}
      },
      "source": [
        "plt.figure(num='origin',figsize=(8,8)) #1 inch = 0.39cm\n",
        "plt.subplot(1,2,1)\n",
        "plt.title('lena')\n",
        "plt.imshow(img)\n",
        "\n",
        "plt.subplot(1,2,2)\n",
        "plt.title('baboon')\n",
        "plt.imshow(img2)\n",
        "\n",
        "plt.show()"
      ],
      "execution_count": 0,
      "outputs": []
    },
    {
      "cell_type": "code",
      "metadata": {
        "id": "Kb8C74ypqZHz",
        "colab_type": "code",
        "colab": {}
      },
      "source": [
        "plt.figure(num='arithmetic',figsize=(12,8)) #1 inch = 0.39cm\n",
        "plt.subplot(1,3,1)\n",
        "plt.title('Addition')\n",
        "plt.imshow(cv2.add(img,img2))\n",
        "\n",
        "plt.subplot(1,3,2)\n",
        "plt.title('img-img2')\n",
        "plt.imshow(cv2.subtract(img,img2))\n",
        "\n",
        "plt.subplot(1,3,3)\n",
        "plt.title('img2-img')\n",
        "plt.imshow(cv2.subtract(img2,img))\n",
        "\n",
        "plt.show()"
      ],
      "execution_count": 0,
      "outputs": []
    },
    {
      "cell_type": "code",
      "metadata": {
        "id": "1zAAIjXzqcgn",
        "colab_type": "code",
        "colab": {}
      },
      "source": [
        "plt.figure(num='blending',figsize=(8,8)) #1 inch = 0.39cm\n",
        "plt.title('blend')\n",
        "plt.imshow(cv2.addWeighted(img,0.5,img2,0.5,0))\n",
        "\n",
        "plt.show()"
      ],
      "execution_count": 0,
      "outputs": []
    },
    {
      "cell_type": "code",
      "metadata": {
        "id": "U--ZnSomqe8m",
        "colab_type": "code",
        "colab": {}
      },
      "source": [
        "formula = cv2.imread('/content/drive/My Drive/107-2Multimedia/03_09.jpg', 0)\n",
        "plt.imshow(formula,cmap='gray')\n",
        "plt.show()"
      ],
      "execution_count": 0,
      "outputs": []
    },
    {
      "cell_type": "code",
      "metadata": {
        "id": "W4c_ui5zqgAS",
        "colab_type": "code",
        "colab": {}
      },
      "source": [
        "import numpy as np\n",
        "import time"
      ],
      "execution_count": 0,
      "outputs": []
    },
    {
      "cell_type": "code",
      "metadata": {
        "id": "LtNWTOG6qhDf",
        "colab_type": "code",
        "colab": {}
      },
      "source": [
        "\n",
        "for i in np.linspace(0,1,40):\n",
        "  alpha = i\n",
        "  beta = 1 - alpha\n",
        "  print('ALPHA ='+ str(alpha) +' BETA ='+str(beta))\n",
        "  plt.title('blending')\n",
        "  plt.imshow(cv2.addWeighted(img,alpha,img2,beta,0))\n",
        "  plt.show()"
      ],
      "execution_count": 0,
      "outputs": []
    },
    {
      "cell_type": "code",
      "metadata": {
        "id": "GaSuCUYnqmqr",
        "colab_type": "code",
        "colab": {}
      },
      "source": [
        "img3 = cv2.imread('/content/drive/My Drive/107-2Multimedia/peppers.tiff', 1)"
      ],
      "execution_count": 0,
      "outputs": []
    },
    {
      "cell_type": "code",
      "metadata": {
        "id": "oC8omnDpqoB1",
        "colab_type": "code",
        "colab": {}
      },
      "source": [
        "b,g,r = cv2.split(img3)"
      ],
      "execution_count": 0,
      "outputs": []
    },
    {
      "cell_type": "code",
      "metadata": {
        "id": "i20UyeChqpc4",
        "colab_type": "code",
        "colab": {}
      },
      "source": [
        "plt.figure(num='split',figsize=(8,8)) #1 inch = 0.39cm\n",
        "plt.subplot(2,2,1)\n",
        "plt.title('Origin')\n",
        "plt.imshow(cv2.cvtColor(img3,cv2.COLOR_BGR2RGB))\n",
        "\n",
        "plt.subplot(2,2,2)\n",
        "plt.title('Blue Channel')\n",
        "plt.imshow(b)\n",
        "\n",
        "plt.subplot(2,2,3)\n",
        "plt.title('Green Channel')\n",
        "plt.imshow(g)\n",
        "\n",
        "plt.subplot(2,2,4)\n",
        "plt.title('Red Channel')\n",
        "plt.imshow(r)\n",
        "\n",
        "plt.show()"
      ],
      "execution_count": 0,
      "outputs": []
    },
    {
      "cell_type": "code",
      "metadata": {
        "id": "7yDzwiPFqrHT",
        "colab_type": "code",
        "colab": {}
      },
      "source": [
        "plt.figure(num='negative',figsize=(12,8)) #1 inch = 0.39cm\n",
        "plt.subplot(1,3,1)\n",
        "plt.title('Origin')\n",
        "origin = cv2.cvtColor(img3,cv2.COLOR_BGR2RGB)\n",
        "plt.imshow(origin)\n",
        "\n",
        "plt.subplot(1,3,2)\n",
        "plt.title('Grayscale')\n",
        "grayscale = cv2.cvtColor(origin,cv2.COLOR_RGB2GRAY)\n",
        "plt.imshow(grayscale,cmap ='gray')\n",
        "\n",
        "plt.subplot(1,3,3)\n",
        "plt.title('Negative')\n",
        "negative = abs(255-grayscale)\n",
        "plt.imshow(negative,cmap ='gray')\n",
        "\n",
        "plt.show()"
      ],
      "execution_count": 0,
      "outputs": []
    },
    {
      "cell_type": "code",
      "metadata": {
        "id": "la2g4ZoLqsja",
        "colab_type": "code",
        "colab": {}
      },
      "source": [
        "plt.title('Negative2')\n",
        "plt.imshow(grayscale,cmap ='gray_r')\n",
        "plt.show()"
      ],
      "execution_count": 0,
      "outputs": []
    },
    {
      "cell_type": "code",
      "metadata": {
        "id": "rU9YRIiqqt_t",
        "colab_type": "code",
        "colab": {}
      },
      "source": [
        "img4 = cv2.imread('/content/drive/My Drive/107-2Multimedia/barcode_hor.png', 0)\n",
        "img5 = cv2.imread('/content/drive/My Drive/107-2Multimedia/barcode_ver.png', 0)"
      ],
      "execution_count": 0,
      "outputs": []
    },
    {
      "cell_type": "code",
      "metadata": {
        "id": "47pqN__nqvI8",
        "colab_type": "code",
        "colab": {}
      },
      "source": [
        "\n",
        "img4.shape"
      ],
      "execution_count": 0,
      "outputs": []
    },
    {
      "cell_type": "code",
      "metadata": {
        "id": "b63yYYo5qw09",
        "colab_type": "code",
        "colab": {}
      },
      "source": [
        "not_out = cv2.bitwise_not(img4)\n",
        "and_out = cv2.bitwise_and(img4,img5)\n",
        "or_out = cv2.bitwise_or(img4,img5)\n",
        "xor_out = cv2.bitwise_xor(img4,img5)"
      ],
      "execution_count": 0,
      "outputs": []
    },
    {
      "cell_type": "code",
      "metadata": {
        "id": "gMNFMmuxqyEH",
        "colab_type": "code",
        "colab": {}
      },
      "source": [
        "titles = ['Image 4','Image 5','Image 4 NOT','AND','OR','XOR']"
      ],
      "execution_count": 0,
      "outputs": []
    },
    {
      "cell_type": "code",
      "metadata": {
        "id": "CU9YbKm8qzY5",
        "colab_type": "code",
        "colab": {}
      },
      "source": [
        "images = [img4,img5,not_out,and_out,or_out,xor_out]"
      ],
      "execution_count": 0,
      "outputs": []
    },
    {
      "cell_type": "code",
      "metadata": {
        "id": "4WfDyRSDq06F",
        "colab_type": "code",
        "colab": {}
      },
      "source": [
        "plt.figure(num='barcode',figsize=(12,8))\n",
        "for i in range(6):\n",
        "  plt.subplot(2,3,i+1)\n",
        "  plt.imshow(images[i],cmap='gray')\n",
        "  plt.title(titles[i])\n",
        "  plt.xticks([]),plt.yticks([])\n",
        "  cv2.imwrite('/content/drive/My Drive/107-2Multimedia/'+str(titles[i])+'.png',images[i])\n",
        "plt.show()"
      ],
      "execution_count": 0,
      "outputs": []
    },
    {
      "cell_type": "code",
      "metadata": {
        "id": "C9j7dQziq15p",
        "colab_type": "code",
        "colab": {}
      },
      "source": [
        "plt.imshow(cv2.bitwise_not(and_out),cmap='gray')\n",
        "plt.show()"
      ],
      "execution_count": 0,
      "outputs": []
    },
    {
      "cell_type": "code",
      "metadata": {
        "id": "sqAGVGruq5k1",
        "colab_type": "code",
        "colab": {}
      },
      "source": [
        "and_out2 = cv2.bitwise_and(cv2.bitwise_not(and_out),or_out)\n",
        "plt.imshow(and_out2,cmap='gray')\n",
        "plt.show()"
      ],
      "execution_count": 0,
      "outputs": []
    },
    {
      "cell_type": "code",
      "metadata": {
        "id": "3r15XSBUq9xL",
        "colab_type": "code",
        "colab": {}
      },
      "source": [
        "import numpy as np"
      ],
      "execution_count": 0,
      "outputs": []
    },
    {
      "cell_type": "code",
      "metadata": {
        "id": "1KVEvV7Rq_JT",
        "colab_type": "code",
        "colab": {}
      },
      "source": [
        "image = np.zeros((200,200,3), np.uint8)"
      ],
      "execution_count": 0,
      "outputs": []
    },
    {
      "cell_type": "code",
      "metadata": {
        "id": "oysURn1UrBow",
        "colab_type": "code",
        "colab": {}
      },
      "source": [
        "cv2.line(image,(0,190),(199,0),(0,0,255),2)"
      ],
      "execution_count": 0,
      "outputs": []
    },
    {
      "cell_type": "code",
      "metadata": {
        "id": "w4wW0tT0rDUz",
        "colab_type": "code",
        "colab": {}
      },
      "source": [
        "cv2.rectangle(image,(20,20),(60,60),(255,0,0),1)"
      ],
      "execution_count": 0,
      "outputs": []
    },
    {
      "cell_type": "code",
      "metadata": {
        "id": "PYlwFAI5rF-H",
        "colab_type": "code",
        "colab": {}
      },
      "source": [
        "cv2.circle(image,(80,80),10,(0,255,0),-1)"
      ],
      "execution_count": 0,
      "outputs": []
    },
    {
      "cell_type": "code",
      "metadata": {
        "id": "MVHpR4bUrHax",
        "colab_type": "code",
        "colab": {}
      },
      "source": [
        "cv2.ellipse(image,(99,99),(40,20),0,0,360,(128,128,128),-1)"
      ],
      "execution_count": 0,
      "outputs": []
    },
    {
      "cell_type": "code",
      "metadata": {
        "id": "F8zAzS4FrJCr",
        "colab_type": "code",
        "colab": {}
      },
      "source": [
        "points = np.array([[100,5],[125,30],[175,20],[185,10]],np.int32)"
      ],
      "execution_count": 0,
      "outputs": []
    },
    {
      "cell_type": "code",
      "metadata": {
        "id": "kd35sXTcrM-f",
        "colab_type": "code",
        "colab": {}
      },
      "source": [
        "points = points.reshape((-1,1,2))"
      ],
      "execution_count": 0,
      "outputs": []
    },
    {
      "cell_type": "code",
      "metadata": {
        "id": "vqptJayErTu3",
        "colab_type": "code",
        "colab": {}
      },
      "source": [
        "cv2.polylines(image,[points],True,(255,255,0))"
      ],
      "execution_count": 0,
      "outputs": []
    },
    {
      "cell_type": "code",
      "metadata": {
        "id": "tTZDzT7CrUx9",
        "colab_type": "code",
        "colab": {}
      },
      "source": [
        "cv2.putText(image,'Test',(80,180),cv2.FONT_HERSHEY_DUPLEX,1,(255,0,255))"
      ],
      "execution_count": 0,
      "outputs": []
    },
    {
      "cell_type": "code",
      "metadata": {
        "id": "McPn5eelrWdT",
        "colab_type": "code",
        "colab": {}
      },
      "source": [
        "plt.title('Shapes')\n",
        "plt.imshow(cv2.cvtColor(image,cv2.COLOR_BGR2RGB))\n",
        "plt.show()"
      ],
      "execution_count": 0,
      "outputs": []
    },
    {
      "cell_type": "code",
      "metadata": {
        "id": "Sa6KzgFgrYFn",
        "colab_type": "code",
        "colab": {}
      },
      "source": [
        "#https://blog.gtwang.org/programming/opencv-drawing-functions-tutorial/"
      ],
      "execution_count": 0,
      "outputs": []
    },
    {
      "cell_type": "code",
      "metadata": {
        "id": "ah1QmHZ7raMo",
        "colab_type": "code",
        "colab": {}
      },
      "source": [
        "import numpy as np\n",
        "import cv2\n",
        "from PIL import ImageFont, ImageDraw, Image\n",
        "\n",
        "img = np.zeros((450, 450, 3), np.uint8)\n",
        "\n",
        "# 將背景設定為大紅色\n",
        "img[:] = (0, 0, 255)\n",
        "\n",
        "# 文字\n",
        "text = '小熊\\n維尼'\n",
        "\n",
        "# 指定 TTF 字體檔\n",
        "fontPath = '/content/drive/My Drive/107-2Multimedia/TpldKhangXiDictTrial.otf'#https://www.xzking.com/html/54133.html\n",
        "\n",
        "# 載入字體\n",
        "font = ImageFont.truetype(fontPath, 192)\n",
        "\n",
        "# 將 NumPy 陣列轉為 PIL 影像\n",
        "imgPil = Image.fromarray(img)\n",
        "\n",
        "# 在圖片上加入文字\n",
        "draw = ImageDraw.Draw(imgPil)\n",
        "draw.text((30, 30),  text, font = font, fill = (0, 0, 0))\n",
        "\n",
        "# 將 PIL 影像轉回 NumPy 陣列\n",
        "img = np.array(imgPil)\n",
        "\n",
        "plt.imshow(img[:,:,::-1])\n",
        "plt.show()"
      ],
      "execution_count": 0,
      "outputs": []
    },
    {
      "cell_type": "code",
      "metadata": {
        "id": "iAIxbD6CrceO",
        "colab_type": "code",
        "colab": {}
      },
      "source": [
        "#https://blog.gtwang.org/programming/opencv-basic-image-read-and-write-tutorial/"
      ],
      "execution_count": 0,
      "outputs": []
    }
  ]
}